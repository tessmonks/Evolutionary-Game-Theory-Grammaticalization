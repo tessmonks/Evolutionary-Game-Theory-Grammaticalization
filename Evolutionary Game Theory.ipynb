{
 "cells": [
  {
   "cell_type": "markdown",
   "id": "56bc8a3e",
   "metadata": {},
   "source": [
    "## Evolutionary Game Theory\n",
    "\n",
    "Deo (2015) implemented the Evolutionary Game Theory (EGT) framework to model the diachronic path of the progressive to imperfective aspectual shift. In a nutshell, EGT models strategy selection and extension across populations, either consciously or subconsciously. Lund (2021) implemented this framework in Python.\n",
    "\n",
    "\n",
    "As Deo discusses, there are two aspects of the grammaticalization question that are best studied through EGT: the typological aspect and the cross-temporal aspect. In this current research, I will study the diachronic shift demonstratives to definite articles, which has at least three states of being-- exophoric demonstrative, adnominal demonstrative, definite article. The path is cylic (van Gelderen, 2010) where the same populations may have different strateges in different iterations of the same cycle. "
   ]
  },
  {
   "cell_type": "markdown",
   "id": "954d0b7c",
   "metadata": {},
   "source": [
    "### $\\delta$-function \n",
    "\n",
    "This function defines communicative success. For a speaker strategy _S_, a hearer strategy _H_, and a state _t_, the success of _S_ conveying to to _H_ is defined as $\\delta$.\n",
    "\\\n",
    "\\\n",
    "$\\delta_t = \n",
    "\\begin{cases}\\\n",
    "1 & \\text{if}\\quad H(S(t)) = t\\\\\\\\\n",
    "0 & \\text{otherwise}\n",
    "\\end{cases}$\n",
    "\n",
    "\n",
    "\n",
    "\n",
    "Speaker utility:\n",
    "\n",
    "_k_ is cost, _n_ is a dunction to return _j_-1 where _j_ is the number of expressions used by _S_ to convey the full range of meanings for an element:\n",
    "\n",
    "\n",
    "\n",
    "$U_s (S, H, t) = \\delta_t(S, H) - k \\times n(S)$"
   ]
  },
  {
   "cell_type": "markdown",
   "id": "8b37c3b0",
   "metadata": {},
   "source": [
    "Hearer utility:\n",
    "\\\n",
    "\\\n",
    "$U_h (S, H, t) = \\delta_t(S, H)$"
   ]
  },
  {
   "cell_type": "markdown",
   "id": "1d98516f",
   "metadata": {},
   "source": [
    "The average speaker and hearer utilities across states are given as:\n",
    "\n",
    "$U_h(S, H)=\\sum_t P(t) \\times (\\delta_t(S, H))$"
   ]
  },
  {
   "cell_type": "markdown",
   "id": "a2a7798c",
   "metadata": {},
   "source": [
    "The model must be enriched through contexts, which in our case the contexts of: \\\n",
    "$ C_exo$ when $P(exo) = 0.9$ and $P(ana) = 0.1$ and \\\n",
    "$ C_ana$ when $P(exo) = 0.1$ and $P(ana) = 0.9$. \n",
    "\n",
    "\n",
    "For speaker strategies in states $exophoric$ and $anaphoric$ there are the following strategies:"
   ]
  },
  {
   "cell_type": "markdown",
   "id": "125c4481",
   "metadata": {},
   "source": [
    "|           |   $C_{e}$ |     \t    |   $C_{a}$ |      \t|\n",
    "|---------\t|---------|---------|------\t |-------|\n",
    "|       \t| EXO    \t|  ANA \t    |   EXO     | ANA\t|\n",
    "| $S_{cd}$  | dist      | pro \t    | pro    \t| pro \t|\n",
    "| $S_{pcd}$ | dist      | dist \t    | pro     \t| pro \t|\n",
    "| $S_{em}$  | dist      | dist \t    | dist     \t| pro \t|\n",
    "| $S_{cd2}$ | dist      | dist \t    | dist     \t| dist \t|"
   ]
  },
  {
   "cell_type": "markdown",
   "id": "b472dfbc",
   "metadata": {},
   "source": [
    "For speaker strategies given a context and utterance:\n",
    "\n",
    "|         \t| $C_{e}$: dist |   $C_{e}$: pro    \t| $C_{a}$: dist\t| $C_{e}$: pro     \t|\n",
    "|---------\t|---------\t|------\t|----------\t|------\t|\n",
    "| $H_{cd}$  \t| exo    \t| exo \t| ana     \t| ana \t|\n",
    "| $H_{pcd}$ \t| exo   \t| exo\t| exo     \t| ana \t|\n",
    "| $H_{em}$  \t| exo    \t| ana \t| exo     \t| ana \t|"
   ]
  },
  {
   "cell_type": "markdown",
   "id": "89df9d95",
   "metadata": {},
   "source": [
    "The utility function is as follows:\n",
    "\n",
    "$U_h(S, H) = \\sum cP(c) \\times \\sum_t P_c(t) \\times (\\delta_t(S,H))$"
   ]
  },
  {
   "cell_type": "markdown",
   "id": "fc2042cd",
   "metadata": {},
   "source": [
    "### Expected Utility (EU)\n",
    "\n",
    "For a symmetrized game:\n",
    "\n",
    "What happen when an individual with one grammar meets an individual with a different grammar:\n",
    "\n",
    "\n",
    "$EU(\\langle S,H\\rangle, \\langle S',H'\\rangle) = \\frac{1}{2} \\times (U_s(S,H') + U_h(S',H))$"
   ]
  },
  {
   "cell_type": "code",
   "execution_count": 1,
   "id": "3a38d95f",
   "metadata": {},
   "outputs": [],
   "source": [
    "# import the necessary dependencies\n",
    "import numpy as np \n",
    "import pandas as pd"
   ]
  },
  {
   "cell_type": "code",
   "execution_count": 15,
   "id": "771dbd1a",
   "metadata": {},
   "outputs": [],
   "source": [
    "# set the states, contexts, and speaker and hearer properties\n",
    "\n",
    "states = ['exo', 'ana']\n",
    "\n",
    "contexts = {'Cexo':\n",
    "               {'exo': 0.9,\n",
    "               'ana': 0.1},\n",
    "           'Cana':\n",
    "               {'exo': 0.4,\n",
    "               'ana': 0.6}}\n",
    "\n",
    "speaker = {'Scd': {'Cexo': {'exo': 'dist', 'ana': 'pro'},\n",
    "                  'Cana': {'exo': 'pro', 'ana': 'pro'}},\n",
    "          'Spcd': {'Cexo': {'exo': 'dist', 'ana': 'dist'},\n",
    "                  'Cana': {'exo': 'pro', 'ana': 'pro'}},\n",
    "          'Sem': {'Cexo': {'exo': 'dist', 'ana': 'dist'},\n",
    "                  'Cana': {'exo': 'dist', 'ana': 'pro'}},\n",
    "          'Scd2': {'Cexo': {'exo': 'dist', 'ana': 'dist'},\n",
    "                  'Cana': {'exo': 'dist', 'ana': 'dist'}}}\n",
    "\n",
    "hearer = {'Hcd': {'Cexo': {'dist': 'exo', 'pro': 'exo'},\n",
    "                  'Cana': {'dist': 'ana', 'pro': 'ana'}},\n",
    "          'Hpcd': {'Cexo': {'dist': 'exo', 'pro': 'exo'},\n",
    "                  'Cana': {'dist': 'exo', 'pro': 'ana'}},\n",
    "          'Hem': {'Cexo': {'dist': 'exo', 'pro': 'ana'},\n",
    "                  'Cana': {'dist': 'exo', 'pro': 'ana'}}}\n",
    "\n",
    "k = 0.01"
   ]
  },
  {
   "cell_type": "code",
   "execution_count": 16,
   "id": "a750ce79",
   "metadata": {},
   "outputs": [],
   "source": [
    "class AverageUtility:\n",
    "    def __init__(self, states, contexts, speaker, hearer, k):\n",
    "        self.states = states\n",
    "        self.contexts = contexts\n",
    "        self.speaker = speaker\n",
    "        self.hearer = hearer\n",
    "        self.k = k\n",
    "    \n",
    "    def delta(self, S, H, t):\n",
    "        if H[S[t]] == t:\n",
    "            return 1\n",
    "        else:\n",
    "            return 0\n",
    "        \n",
    "    def n(self, S):\n",
    "        return len(set(S.values()))-1\n",
    "        \n",
    "    def U_s(self, S, H):\n",
    "        a = 0\n",
    "        for c in self.contexts:\n",
    "            s = 0\n",
    "            for t in self.states:\n",
    "                s += self.contexts[c][t] * self.delta(self.speaker[S][c], self.hearer[H][c], t) \\\n",
    "                        - (self.k * self.n(self.speaker[S][c]))\n",
    "            a += s * 0.5\n",
    "        return a\n",
    "    \n",
    "    def U_h(self, S, H):\n",
    "        a = 0\n",
    "        for c in self.contexts:\n",
    "            s = 0\n",
    "            for t in self.states:\n",
    "                s += self.contexts[c][t] * self.delta(self.speaker[S][c], self.hearer[H][c], t)\n",
    "            a += s * 0.5\n",
    "        return a\n",
    "    \n",
    "    def EU(self, S1, H1, S2, H2):\n",
    "        return 0.5 * (self.U_s(S1, H2) + self.U_h(S2, H1))\n",
    "    \n",
    "    def EU_matrix(self):\n",
    "        strat_prod = list(((x, y) for x in self.speaker.keys() for y in self.hearer.keys()))\n",
    "        index = [', '.join(strat) for strat in strat_prod]\n",
    "        matrix = pd.DataFrame(np.zeros((len(index), len(index))),\n",
    "                              index=index, \n",
    "                              columns=index)\n",
    "        for strat1 in strat_prod:\n",
    "            for strat2 in strat_prod:\n",
    "                matrix.loc[', '.join(strat1), ', '.join(strat2)] = self.EU(strat1[0], strat1[1], strat2[0], strat2[1])\n",
    "        return matrix"
   ]
  },
  {
   "cell_type": "code",
   "execution_count": 17,
   "id": "157a123a",
   "metadata": {},
   "outputs": [
    {
     "data": {
      "text/html": [
       "<div>\n",
       "<style scoped>\n",
       "    .dataframe tbody tr th:only-of-type {\n",
       "        vertical-align: middle;\n",
       "    }\n",
       "\n",
       "    .dataframe tbody tr th {\n",
       "        vertical-align: top;\n",
       "    }\n",
       "\n",
       "    .dataframe thead th {\n",
       "        text-align: right;\n",
       "    }\n",
       "</style>\n",
       "<table border=\"1\" class=\"dataframe\">\n",
       "  <thead>\n",
       "    <tr style=\"text-align: right;\">\n",
       "      <th></th>\n",
       "      <th>Scd, Hcd</th>\n",
       "      <th>Scd, Hpcd</th>\n",
       "      <th>Scd, Hem</th>\n",
       "      <th>Spcd, Hcd</th>\n",
       "      <th>Spcd, Hpcd</th>\n",
       "      <th>Spcd, Hem</th>\n",
       "      <th>Sem, Hcd</th>\n",
       "      <th>Sem, Hpcd</th>\n",
       "      <th>Sem, Hem</th>\n",
       "      <th>Scd2, Hcd</th>\n",
       "      <th>Scd2, Hpcd</th>\n",
       "      <th>Scd2, Hem</th>\n",
       "    </tr>\n",
       "  </thead>\n",
       "  <tbody>\n",
       "    <tr>\n",
       "      <th>Scd, Hcd</th>\n",
       "      <td>0.745</td>\n",
       "      <td>0.745</td>\n",
       "      <td>0.770</td>\n",
       "      <td>0.745</td>\n",
       "      <td>0.745</td>\n",
       "      <td>0.770</td>\n",
       "      <td>0.745</td>\n",
       "      <td>0.745</td>\n",
       "      <td>0.770</td>\n",
       "      <td>0.745</td>\n",
       "      <td>0.745</td>\n",
       "      <td>0.770</td>\n",
       "    </tr>\n",
       "    <tr>\n",
       "      <th>Scd, Hpcd</th>\n",
       "      <td>0.745</td>\n",
       "      <td>0.745</td>\n",
       "      <td>0.770</td>\n",
       "      <td>0.745</td>\n",
       "      <td>0.745</td>\n",
       "      <td>0.770</td>\n",
       "      <td>0.845</td>\n",
       "      <td>0.845</td>\n",
       "      <td>0.870</td>\n",
       "      <td>0.695</td>\n",
       "      <td>0.695</td>\n",
       "      <td>0.720</td>\n",
       "    </tr>\n",
       "    <tr>\n",
       "      <th>Scd, Hem</th>\n",
       "      <td>0.770</td>\n",
       "      <td>0.770</td>\n",
       "      <td>0.795</td>\n",
       "      <td>0.745</td>\n",
       "      <td>0.745</td>\n",
       "      <td>0.770</td>\n",
       "      <td>0.845</td>\n",
       "      <td>0.845</td>\n",
       "      <td>0.870</td>\n",
       "      <td>0.695</td>\n",
       "      <td>0.695</td>\n",
       "      <td>0.720</td>\n",
       "    </tr>\n",
       "    <tr>\n",
       "      <th>Spcd, Hcd</th>\n",
       "      <td>0.750</td>\n",
       "      <td>0.750</td>\n",
       "      <td>0.750</td>\n",
       "      <td>0.750</td>\n",
       "      <td>0.750</td>\n",
       "      <td>0.750</td>\n",
       "      <td>0.750</td>\n",
       "      <td>0.750</td>\n",
       "      <td>0.750</td>\n",
       "      <td>0.750</td>\n",
       "      <td>0.750</td>\n",
       "      <td>0.750</td>\n",
       "    </tr>\n",
       "    <tr>\n",
       "      <th>Spcd, Hpcd</th>\n",
       "      <td>0.750</td>\n",
       "      <td>0.750</td>\n",
       "      <td>0.750</td>\n",
       "      <td>0.750</td>\n",
       "      <td>0.750</td>\n",
       "      <td>0.750</td>\n",
       "      <td>0.850</td>\n",
       "      <td>0.850</td>\n",
       "      <td>0.850</td>\n",
       "      <td>0.700</td>\n",
       "      <td>0.700</td>\n",
       "      <td>0.700</td>\n",
       "    </tr>\n",
       "    <tr>\n",
       "      <th>Spcd, Hem</th>\n",
       "      <td>0.775</td>\n",
       "      <td>0.775</td>\n",
       "      <td>0.775</td>\n",
       "      <td>0.750</td>\n",
       "      <td>0.750</td>\n",
       "      <td>0.750</td>\n",
       "      <td>0.850</td>\n",
       "      <td>0.850</td>\n",
       "      <td>0.850</td>\n",
       "      <td>0.700</td>\n",
       "      <td>0.700</td>\n",
       "      <td>0.700</td>\n",
       "    </tr>\n",
       "    <tr>\n",
       "      <th>Sem, Hcd</th>\n",
       "      <td>0.745</td>\n",
       "      <td>0.845</td>\n",
       "      <td>0.845</td>\n",
       "      <td>0.745</td>\n",
       "      <td>0.845</td>\n",
       "      <td>0.845</td>\n",
       "      <td>0.745</td>\n",
       "      <td>0.845</td>\n",
       "      <td>0.845</td>\n",
       "      <td>0.745</td>\n",
       "      <td>0.845</td>\n",
       "      <td>0.845</td>\n",
       "    </tr>\n",
       "    <tr>\n",
       "      <th>Sem, Hpcd</th>\n",
       "      <td>0.745</td>\n",
       "      <td>0.845</td>\n",
       "      <td>0.845</td>\n",
       "      <td>0.745</td>\n",
       "      <td>0.845</td>\n",
       "      <td>0.845</td>\n",
       "      <td>0.845</td>\n",
       "      <td>0.945</td>\n",
       "      <td>0.945</td>\n",
       "      <td>0.695</td>\n",
       "      <td>0.795</td>\n",
       "      <td>0.795</td>\n",
       "    </tr>\n",
       "    <tr>\n",
       "      <th>Sem, Hem</th>\n",
       "      <td>0.770</td>\n",
       "      <td>0.870</td>\n",
       "      <td>0.870</td>\n",
       "      <td>0.745</td>\n",
       "      <td>0.845</td>\n",
       "      <td>0.845</td>\n",
       "      <td>0.845</td>\n",
       "      <td>0.945</td>\n",
       "      <td>0.945</td>\n",
       "      <td>0.695</td>\n",
       "      <td>0.795</td>\n",
       "      <td>0.795</td>\n",
       "    </tr>\n",
       "    <tr>\n",
       "      <th>Scd2, Hcd</th>\n",
       "      <td>0.750</td>\n",
       "      <td>0.700</td>\n",
       "      <td>0.700</td>\n",
       "      <td>0.750</td>\n",
       "      <td>0.700</td>\n",
       "      <td>0.700</td>\n",
       "      <td>0.750</td>\n",
       "      <td>0.700</td>\n",
       "      <td>0.700</td>\n",
       "      <td>0.750</td>\n",
       "      <td>0.700</td>\n",
       "      <td>0.700</td>\n",
       "    </tr>\n",
       "    <tr>\n",
       "      <th>Scd2, Hpcd</th>\n",
       "      <td>0.750</td>\n",
       "      <td>0.700</td>\n",
       "      <td>0.700</td>\n",
       "      <td>0.750</td>\n",
       "      <td>0.700</td>\n",
       "      <td>0.700</td>\n",
       "      <td>0.850</td>\n",
       "      <td>0.800</td>\n",
       "      <td>0.800</td>\n",
       "      <td>0.700</td>\n",
       "      <td>0.650</td>\n",
       "      <td>0.650</td>\n",
       "    </tr>\n",
       "    <tr>\n",
       "      <th>Scd2, Hem</th>\n",
       "      <td>0.775</td>\n",
       "      <td>0.725</td>\n",
       "      <td>0.725</td>\n",
       "      <td>0.750</td>\n",
       "      <td>0.700</td>\n",
       "      <td>0.700</td>\n",
       "      <td>0.850</td>\n",
       "      <td>0.800</td>\n",
       "      <td>0.800</td>\n",
       "      <td>0.700</td>\n",
       "      <td>0.650</td>\n",
       "      <td>0.650</td>\n",
       "    </tr>\n",
       "  </tbody>\n",
       "</table>\n",
       "</div>"
      ],
      "text/plain": [
       "            Scd, Hcd  Scd, Hpcd  Scd, Hem  Spcd, Hcd  Spcd, Hpcd  Spcd, Hem  \\\n",
       "Scd, Hcd       0.745      0.745     0.770      0.745       0.745      0.770   \n",
       "Scd, Hpcd      0.745      0.745     0.770      0.745       0.745      0.770   \n",
       "Scd, Hem       0.770      0.770     0.795      0.745       0.745      0.770   \n",
       "Spcd, Hcd      0.750      0.750     0.750      0.750       0.750      0.750   \n",
       "Spcd, Hpcd     0.750      0.750     0.750      0.750       0.750      0.750   \n",
       "Spcd, Hem      0.775      0.775     0.775      0.750       0.750      0.750   \n",
       "Sem, Hcd       0.745      0.845     0.845      0.745       0.845      0.845   \n",
       "Sem, Hpcd      0.745      0.845     0.845      0.745       0.845      0.845   \n",
       "Sem, Hem       0.770      0.870     0.870      0.745       0.845      0.845   \n",
       "Scd2, Hcd      0.750      0.700     0.700      0.750       0.700      0.700   \n",
       "Scd2, Hpcd     0.750      0.700     0.700      0.750       0.700      0.700   \n",
       "Scd2, Hem      0.775      0.725     0.725      0.750       0.700      0.700   \n",
       "\n",
       "            Sem, Hcd  Sem, Hpcd  Sem, Hem  Scd2, Hcd  Scd2, Hpcd  Scd2, Hem  \n",
       "Scd, Hcd       0.745      0.745     0.770      0.745       0.745      0.770  \n",
       "Scd, Hpcd      0.845      0.845     0.870      0.695       0.695      0.720  \n",
       "Scd, Hem       0.845      0.845     0.870      0.695       0.695      0.720  \n",
       "Spcd, Hcd      0.750      0.750     0.750      0.750       0.750      0.750  \n",
       "Spcd, Hpcd     0.850      0.850     0.850      0.700       0.700      0.700  \n",
       "Spcd, Hem      0.850      0.850     0.850      0.700       0.700      0.700  \n",
       "Sem, Hcd       0.745      0.845     0.845      0.745       0.845      0.845  \n",
       "Sem, Hpcd      0.845      0.945     0.945      0.695       0.795      0.795  \n",
       "Sem, Hem       0.845      0.945     0.945      0.695       0.795      0.795  \n",
       "Scd2, Hcd      0.750      0.700     0.700      0.750       0.700      0.700  \n",
       "Scd2, Hpcd     0.850      0.800     0.800      0.700       0.650      0.650  \n",
       "Scd2, Hem      0.850      0.800     0.800      0.700       0.650      0.650  "
      ]
     },
     "execution_count": 17,
     "metadata": {},
     "output_type": "execute_result"
    }
   ],
   "source": [
    "# find the average utility of each strategy\n",
    "average_utility = AverageUtility(states, contexts, speaker, hearer, k)\n",
    "average_utility.EU_matrix()"
   ]
  },
  {
   "cell_type": "markdown",
   "id": "f093b64a",
   "metadata": {},
   "source": [
    "## The replicator-mutator dynamics\n",
    "\n",
    "#### The replicator\n",
    "\n",
    "This forms a matrix with the size $|S| \\times |S|$ such that $|S|$ is the number of strategies. \\\n",
    "The frequency of strategies in a population is a vector $F$ of length $|S|$ where $F_i$ is the frequency of strategy $S_i$ in the population. \\\n",
    "The average payoffs, or fitness, of a strategy $S_i$ for a given population is the dot product of the row vector $X_i$ and $F$. This is called $\\vec f$. \\\n",
    "The average fitness of a population $\\phi$ at a time is given as $\\vec f \\cdot F$, or the dot prouct of the average payoff for the individual strategies and their frequencies. \\\n",
    "The frequency of a strategy $A$ is defined as:\n",
    "\n",
    "\n",
    "\n",
    "$ x'A = x_A \\frac{f_A}{\\phi}$"
   ]
  },
  {
   "cell_type": "markdown",
   "id": "131c0b78",
   "metadata": {},
   "source": [
    "### The mutator\n",
    "\n",
    "To account for language shift over time we need a mutator. This can be represented as a row-stoachstic matrix $Q$, which is the probability that a mutation occurs from one strategy to the next. The probability that one strategy $j$ mutates into a strategy $i$ is written as $Q_{ji}$"
   ]
  },
  {
   "cell_type": "markdown",
   "id": "f14c1fe5",
   "metadata": {},
   "source": [
    "Deo's mutator equation is as such:\n",
    "\n",
    "$x'i = \\sum_{j=1}^n Q_{ji} \\frac{x_jf_j}{phi}$"
   ]
  },
  {
   "cell_type": "markdown",
   "id": "147a3d9b",
   "metadata": {},
   "source": [
    "This an also be written using dot products, where the new frequences are $F'$ and the operations in the fraction are element-wise:\n",
    "\n",
    "$F' = Q^T \\cdot \\frac{F \\vec f}{\\phi}$"
   ]
  },
  {
   "cell_type": "code",
   "execution_count": 18,
   "id": "8345172c",
   "metadata": {},
   "outputs": [],
   "source": [
    "class ReplicatorMutatorDynamics:\n",
    "    def __init__(self, payoffs, frequencies, Q):\n",
    "        self.payoffs = payoffs\n",
    "        self.frequencies = frequencies\n",
    "        self.Q = Q\n",
    "    \n",
    "    def replicator(self, payoffs, frequencies):\n",
    "        average_payoffs = payoffs.dot(frequencies)\n",
    "        average_fitness = average_payoffs.dot(frequencies)\n",
    "        new_population = frequencies * average_payoffs / average_fitness\n",
    "        return new_population\n",
    "    \n",
    "    def replicator_mutator(self, payoffs, frequencies, Q):\n",
    "        average_payoffs = payoffs.dot(frequencies)\n",
    "        average_fitness = average_payoffs.dot(frequencies)\n",
    "        new_population = Q.T.dot(frequencies * average_payoffs) / average_fitness\n",
    "        return new_population\n",
    "    \n",
    "    def run_dynamics(self, iterations):\n",
    "        iteration = 0\n",
    "        init_frequencies = self.frequencies\n",
    "        payoffs = self.payoffs\n",
    "        Q = self.Q\n",
    "        frequencies = init_frequencies\n",
    "        results = pd.DataFrame(index=range(0, iterations+1), columns=payoffs.columns)\n",
    "        results.iloc[[0]] = np.zeros((1, len(payoffs.columns)))\n",
    "        for i in range(iteration, iterations+1):\n",
    "            frequencies = self.replicator_mutator(payoffs, frequencies, Q)\n",
    "            results.iloc[i, :] = frequencies\n",
    "        return results"
   ]
  },
  {
   "cell_type": "markdown",
   "id": "3f93e295",
   "metadata": {},
   "source": [
    "### Initial Replication\n",
    "\n",
    "Replicates the results first with perfect learners. "
   ]
  },
  {
   "cell_type": "code",
   "execution_count": 19,
   "id": "f5f8a548",
   "metadata": {},
   "outputs": [],
   "source": [
    "test = ['Scd, Hcd', 'Spcd, Hpcd']\n",
    "\n",
    "test_mat = average_utility.EU_matrix().loc[test, test]"
   ]
  },
  {
   "cell_type": "code",
   "execution_count": 20,
   "id": "9da4af1e",
   "metadata": {},
   "outputs": [],
   "source": [
    "frequencies = np.array([0.89, 0.11])\n",
    "Q = np.array([[1, 0],\n",
    "             [0, 1]])\n",
    "replicator = ReplicatorMutatorDynamics(test_mat, frequencies, Q)"
   ]
  },
  {
   "cell_type": "code",
   "execution_count": 21,
   "id": "ec0b8286",
   "metadata": {},
   "outputs": [
    {
     "data": {
      "text/plain": [
       "<AxesSubplot:>"
      ]
     },
     "execution_count": 21,
     "metadata": {},
     "output_type": "execute_result"
    },
    {
     "data": {
      "image/png": "[encoded data removed]",
      "text/plain": [
       "<Figure size 432x288 with 1 Axes>"
      ]
     },
     "metadata": {
      "needs_background": "light"
     },
     "output_type": "display_data"
    }
   ],
   "source": [
    "model1 = replicator.run_dynamics(700)\n",
    "model1.plot()"
   ]
  },
  {
   "cell_type": "markdown",
   "id": "9376fcb0",
   "metadata": {},
   "source": [
    "With imperfect learners:"
   ]
  },
  {
   "cell_type": "code",
   "execution_count": 22,
   "id": "04b2a2b7",
   "metadata": {},
   "outputs": [
    {
     "data": {
      "text/plain": [
       "<AxesSubplot:>"
      ]
     },
     "execution_count": 22,
     "metadata": {},
     "output_type": "execute_result"
    },
    {
     "data": {
      "image/png": "[encoded data removed]",
      "text/plain": [
       "<Figure size 432x288 with 1 Axes>"
      ]
     },
     "metadata": {
      "needs_background": "light"
     },
     "output_type": "display_data"
    }
   ],
   "source": [
    "frequencies = np.array([1, 0])\n",
    "Q = np.array([[0.99, 0.01],\n",
    "              [0.01, 0.99]])\n",
    "replicator2 = ReplicatorMutatorDynamics(test_mat, frequencies, Q)\n",
    "model2 = replicator2.run_dynamics(300)\n",
    "model2.plot()"
   ]
  },
  {
   "cell_type": "code",
   "execution_count": 23,
   "id": "f60163c0",
   "metadata": {},
   "outputs": [
    {
     "data": {
      "text/plain": [
       "<AxesSubplot:>"
      ]
     },
     "execution_count": 23,
     "metadata": {},
     "output_type": "execute_result"
    },
    {
     "data": {
      "image/png": "[encoded data removed]",
      "text/plain": [
       "<Figure size 432x288 with 1 Axes>"
      ]
     },
     "metadata": {
      "needs_background": "light"
     },
     "output_type": "display_data"
    }
   ],
   "source": [
    "strategies = ['Scd, Hcd', 'Spcd, Hpcd', 'Sem, Hem', 'Scd2, Hcd']\n",
    "payoff_matrix = average_utility.EU_matrix().loc[strategies, strategies]\n",
    "frequencies = np.array([1, 0, 0, 0])\n",
    "Q2 = np.array([[0.94, 0.06, 0, 0],\n",
    "              [0.02, 0.91, 0.07, 0],\n",
    "              [0, 0, 0.97, 0.03],\n",
    "              [0, 0, 0, 1]])\n",
    "replicator3 = ReplicatorMutatorDynamics(payoff_matrix, frequencies, Q2)\n",
    "model3 = replicator3.run_dynamics(200)\n",
    "model3.plot()"
   ]
  },
  {
   "cell_type": "markdown",
   "id": "0460b30a",
   "metadata": {},
   "source": [
    "The results all depend on the underlying frequencies of the strategies in the population that can change Q in different positions. Cost should play into Q, which factor into the payoff matrix. "
   ]
  },
  {
   "cell_type": "code",
   "execution_count": null,
   "id": "33f42793",
   "metadata": {},
   "outputs": [],
   "source": []
  }
 ],
 "metadata": {
  "kernelspec": {
   "display_name": "Python 3 (ipykernel)",
   "language": "python",
   "name": "python3"
  },
  "language_info": {
   "codemirror_mode": {
    "name": "ipython",
    "version": 3
   },
   "file_extension": ".py",
   "mimetype": "text/x-python",
   "name": "python",
   "nbconvert_exporter": "python",
   "pygments_lexer": "ipython3",
   "version": "3.7.4"
  }
 },
 "nbformat": 4,
 "nbformat_minor": 5
}
